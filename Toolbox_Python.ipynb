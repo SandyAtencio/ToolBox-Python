{
  "nbformat": 4,
  "nbformat_minor": 0,
  "metadata": {
    "colab": {
      "name": "Toolbox_Python.ipynb",
      "provenance": [],
      "authorship_tag": "ABX9TyO9+WIckWQv+GUQTjM5fyqA",
      "include_colab_link": true
    },
    "kernelspec": {
      "name": "python3",
      "display_name": "Python 3"
    },
    "language_info": {
      "name": "python"
    }
  },
  "cells": [
    {
      "cell_type": "markdown",
      "metadata": {
        "id": "view-in-github",
        "colab_type": "text"
      },
      "source": [
        "<a href=\"https://colab.research.google.com/github/SandyAtencio/ToolBox-Python/blob/master/Toolbox_Python.ipynb\" target=\"_parent\"><img src=\"https://colab.research.google.com/assets/colab-badge.svg\" alt=\"Open In Colab\"/></a>"
      ]
    },
    {
      "cell_type": "markdown",
      "metadata": {
        "id": "HSOgiiJdHpky"
      },
      "source": [
        "### **Funcion con un solo parametro**"
      ]
    },
    {
      "cell_type": "code",
      "metadata": {
        "colab": {
          "base_uri": "https://localhost:8080/"
        },
        "id": "JIuVuUYHHMLr",
        "outputId": "8b564a58-f402-4056-8aef-7cb12d4bcbb0"
      },
      "source": [
        "# definimos el parametro que se le va a pasar a la funcion\n",
        "def semana(dia):\n",
        "    \n",
        "    # concatenamos la palabra feliz con el valor del parametro\n",
        "    dia_semana = 'Feliz ' + dia\n",
        "\n",
        "    # devolvemos el resultado\n",
        "    return(dia_semana)\n",
        "\n",
        "# en la variable saludo, llamamos la funcion semana con el parametro a pasar\n",
        "saludo = semana('Lunes')\n",
        "\n",
        "# imprimimos la variable saludo\n",
        "print(saludo)"
      ],
      "execution_count": null,
      "outputs": [
        {
          "output_type": "stream",
          "text": [
            "Feliz Lunes\n"
          ],
          "name": "stdout"
        }
      ]
    },
    {
      "cell_type": "markdown",
      "metadata": {
        "id": "yN0K5mDIH1O2"
      },
      "source": [
        "### **Funcion con multiples parametros**"
      ]
    },
    {
      "cell_type": "code",
      "metadata": {
        "colab": {
          "base_uri": "https://localhost:8080/"
        },
        "id": "aK7Cdy2YHfz_",
        "outputId": "940494dd-9bfc-48fc-f0cf-8acefa64c786"
      },
      "source": [
        "# definimos los parametros que se le van a pasar a la funcion\n",
        "def finde(dia1, dia2, dia3):\n",
        "    \n",
        "    # concatenamos la palabra feliz con los diferentes valores del parametro\n",
        "    dias_semana = 'Feliz fin de semana: ' + dia1 +' ' + dia2 + ' ' +dia3\n",
        "\n",
        "    # devolvemos el resultado\n",
        "    return(dias_semana)\n",
        "\n",
        "# en la variable saludo_finde, llamamos la funcion finde con los diferentes parametros\n",
        "saludo_finde = finde('viernes','sabado','domingo')\n",
        "\n",
        "# imprimimos ña variable saludo_finde\n",
        "print(saludo_finde)"
      ],
      "execution_count": null,
      "outputs": [
        {
          "output_type": "stream",
          "text": [
            "Feliz fin de semana: viernes sabado domingo\n"
          ],
          "name": "stdout"
        }
      ]
    },
    {
      "cell_type": "markdown",
      "metadata": {
        "id": "SyhoQJVGMakw"
      },
      "source": [
        "### **Funcion con parametro por defecto**"
      ]
    },
    {
      "cell_type": "code",
      "metadata": {
        "colab": {
          "base_uri": "https://localhost:8080/"
        },
        "id": "3jwufrUCMjcO",
        "outputId": "38d17e5b-4ca9-4113-9a6f-73503394a922"
      },
      "source": [
        "def raiz_cuadrada(num, raiz=2):\n",
        "    resultado = num ** raiz\n",
        "    return resultado\n",
        "\n",
        "print(\"reemplazando el parametro por defecto\")\n",
        "raiz_cuadrada(2,3)"
      ],
      "execution_count": null,
      "outputs": [
        {
          "output_type": "stream",
          "text": [
            "reemplazando el parametro por defecto\n"
          ],
          "name": "stdout"
        },
        {
          "output_type": "execute_result",
          "data": {
            "text/plain": [
              "8"
            ]
          },
          "metadata": {
            "tags": []
          },
          "execution_count": 21
        }
      ]
    },
    {
      "cell_type": "code",
      "metadata": {
        "colab": {
          "base_uri": "https://localhost:8080/"
        },
        "id": "LrJMRdT-NNlu",
        "outputId": "f58711c9-e441-40fb-ad02-22c8b2f5dfd1"
      },
      "source": [
        "print(\"Utilizando el parametro por defecto\")\n",
        "raiz_cuadrada(2)"
      ],
      "execution_count": null,
      "outputs": [
        {
          "output_type": "stream",
          "text": [
            "Utilizando el parametro por defecto\n"
          ],
          "name": "stdout"
        },
        {
          "output_type": "execute_result",
          "data": {
            "text/plain": [
              "4"
            ]
          },
          "metadata": {
            "tags": []
          },
          "execution_count": 22
        }
      ]
    },
    {
      "cell_type": "code",
      "metadata": {
        "id": "i0zRizr2Q0x-"
      },
      "source": [
        "r"
      ],
      "execution_count": null,
      "outputs": []
    },
    {
      "cell_type": "markdown",
      "metadata": {
        "id": "a1NnEbf3Nd7R"
      },
      "source": [
        "### **Argumentos flexibles en funciones**\n",
        "\n",
        "\n",
        "1.   *args\n",
        "\n",
        "*  Recibe los argumentos como una tupla\n",
        "*  Es un parametro opcional, Se puede invocar a la función haciendo uso del mismo, o no.\n",
        "*  El número de argumentos al invocar a la función es variable.\n",
        "*  Son parámetros posicionales, es decir, a diferencia de los parámetros con nombre, su valor depende de la posición en la que se pasen a la función."
      ]
    },
    {
      "cell_type": "code",
      "metadata": {
        "colab": {
          "base_uri": "https://localhost:8080/"
        },
        "id": "7cK_NHTNNiYh",
        "outputId": "679689bf-4412-4d9f-bbf0-7f00ffa61ee5"
      },
      "source": [
        "def sumar_varios(*args):\n",
        "\n",
        "    sumar_todos = 0\n",
        "\n",
        "    for numero in args:\n",
        "        sumar_todos += numero\n",
        "    \n",
        "    return sumar_todos\n",
        "\n",
        "agregar_varios(2,3,4)"
      ],
      "execution_count": null,
      "outputs": [
        {
          "output_type": "execute_result",
          "data": {
            "text/plain": [
              "9"
            ]
          },
          "metadata": {
            "tags": []
          },
          "execution_count": 23
        }
      ]
    },
    {
      "cell_type": "markdown",
      "metadata": {
        "id": "cMaIr97dQWE2"
      },
      "source": [
        "2. **kwargs\n",
        "\n",
        "*  El parámetro recibe los argumentos como un diccionario.\n",
        "*  Al tratarse de un diccionario, el orden de los parámetros no importa. Los parámetros se asocian en función de las claves del diccionario."
      ]
    },
    {
      "cell_type": "code",
      "metadata": {
        "colab": {
          "base_uri": "https://localhost:8080/"
        },
        "id": "8y13Ae_uR7rh",
        "outputId": "37221cff-1842-4aba-8730-d3f8b1f93c11"
      },
      "source": [
        "def datos(**kwargs):\n",
        "\n",
        "    for key, value in kwargs.items():\n",
        "        print(key + \":  \" + value)\n",
        "datos(articulo=\"Detergente\", categoria=\"aseo\")"
      ],
      "execution_count": null,
      "outputs": [
        {
          "output_type": "stream",
          "text": [
            "articulo:  Detergente\n",
            "categoria:  aseo\n"
          ],
          "name": "stdout"
        }
      ]
    },
    {
      "cell_type": "markdown",
      "metadata": {
        "id": "QBgDVwkvPQr8"
      },
      "source": [
        "### **Funciones lambda**\n"
      ]
    },
    {
      "cell_type": "code",
      "metadata": {
        "colab": {
          "base_uri": "https://localhost:8080/"
        },
        "id": "a-_V-PbGPdw1",
        "outputId": "954af1fb-1dae-40ea-c490-f9be2c380227"
      },
      "source": [
        "echo_word = (lambda palabra, veces:  palabra * veces)\n",
        "\n",
        "result = echo_word('Python ', 5)\n",
        "\n",
        "print(result)"
      ],
      "execution_count": 3,
      "outputs": [
        {
          "output_type": "stream",
          "text": [
            "Python Python Python Python Python \n"
          ],
          "name": "stdout"
        }
      ]
    },
    {
      "cell_type": "markdown",
      "metadata": {
        "id": "oSjre5SGQGpi"
      },
      "source": [
        "**map()**"
      ]
    },
    {
      "cell_type": "code",
      "metadata": {
        "colab": {
          "base_uri": "https://localhost:8080/"
        },
        "id": "9KwN9D5UQSEC",
        "outputId": "cb706a4a-60b0-4262-b9b3-0df0d2e063fb"
      },
      "source": [
        "nums = [2, 4, 6, 8, 10]\n",
        "\n",
        "result = map(lambda a: a ** 2, nums)\n",
        "\n",
        "print(list(result))"
      ],
      "execution_count": 5,
      "outputs": [
        {
          "output_type": "stream",
          "text": [
            "[4, 16, 36, 64, 100]\n"
          ],
          "name": "stdout"
        }
      ]
    },
    {
      "cell_type": "markdown",
      "metadata": {
        "id": "mGAlZlVmRSaa"
      },
      "source": [
        "**filter()**"
      ]
    },
    {
      "cell_type": "code",
      "metadata": {
        "colab": {
          "base_uri": "https://localhost:8080/"
        },
        "id": "egT0Z9IMRUxV",
        "outputId": "76e9d60d-e8a8-49b1-a236-e3e5988d749e"
      },
      "source": [
        "frutas = ['uva', 'pera', 'manzana', 'papaya','piña']\n",
        "\n",
        "result = filter(lambda item: len(item) > 5, frutas)\n",
        "\n",
        "print(list(result))"
      ],
      "execution_count": 7,
      "outputs": [
        {
          "output_type": "stream",
          "text": [
            "['manzana', 'papaya']\n"
          ],
          "name": "stdout"
        }
      ]
    },
    {
      "cell_type": "markdown",
      "metadata": {
        "id": "gY2B9YwIH7GJ"
      },
      "source": [
        "### **Tuplas**\n",
        "\n",
        "\n",
        "*   son similares a las listas, pueden contener varios valores\n",
        "*   son inmutables, es decir, no se les puede modificar su valor\n",
        "*   se construyen usando los `()`\n",
        "\n"
      ]
    },
    {
      "cell_type": "code",
      "metadata": {
        "colab": {
          "base_uri": "https://localhost:8080/"
        },
        "id": "n-1z_CK4JDQF",
        "outputId": "77849ef0-3725-44c4-871b-133321e789b0"
      },
      "source": [
        "tupla = (2, 'pera', True)\n",
        "print(type(tupla))"
      ],
      "execution_count": null,
      "outputs": [
        {
          "output_type": "stream",
          "text": [
            "<class 'tuple'>\n"
          ],
          "name": "stdout"
        }
      ]
    },
    {
      "cell_type": "markdown",
      "metadata": {
        "id": "EjR3hHy6JQrA"
      },
      "source": [
        "**Desempaquetar una tupla**"
      ]
    },
    {
      "cell_type": "code",
      "metadata": {
        "colab": {
          "base_uri": "https://localhost:8080/"
        },
        "id": "G7t0dtIGJUIZ",
        "outputId": "06062545-5a9b-4497-883b-e057158920d7"
      },
      "source": [
        "tupla = (2, 'pera', True)\n",
        "num, fruta, decision = tupla\n",
        "print(num)\n",
        "print(fruta)\n",
        "print(decision)"
      ],
      "execution_count": null,
      "outputs": [
        {
          "output_type": "stream",
          "text": [
            "2\n",
            "pera\n",
            "True\n"
          ],
          "name": "stdout"
        }
      ]
    },
    {
      "cell_type": "markdown",
      "metadata": {
        "id": "v5shNMquLh-1"
      },
      "source": [
        "Podemos acceder a las tuplas como si fueran una lista, asi:"
      ]
    },
    {
      "cell_type": "code",
      "metadata": {
        "colab": {
          "base_uri": "https://localhost:8080/"
        },
        "id": "Ru0HN7CdLhrf",
        "outputId": "36ac3160-1c22-478c-9d7c-27a40d1fb3f7"
      },
      "source": [
        "print(tupla[1])"
      ],
      "execution_count": null,
      "outputs": [
        {
          "output_type": "stream",
          "text": [
            "pera\n"
          ],
          "name": "stdout"
        }
      ]
    },
    {
      "cell_type": "markdown",
      "metadata": {
        "id": "ihoIKbUGkrs3"
      },
      "source": [
        "### **Iterables e iteradores**\n",
        "\n",
        "**Iterable:** \n",
        "*   operan sobre Listas, diccionarios, strings, archivos con conexion\n",
        "*   un objecto con una asociacion del metodo `iter()`\n",
        "*   Aplicar `iter()` a un iterable crea un iterador\n",
        "\n",
        "**Iterador:**\n",
        "*   Produce el siguiente valor con `next`"
      ]
    },
    {
      "cell_type": "markdown",
      "metadata": {
        "id": "5ZHSj56CUnHf"
      },
      "source": [
        "**Iterando sobre un iterable (String)**"
      ]
    },
    {
      "cell_type": "code",
      "metadata": {
        "id": "Wl84Oqsrkoft",
        "colab": {
          "base_uri": "https://localhost:8080/",
          "height": 35
        },
        "outputId": "4ed2fa64-2ad7-4618-d73f-7279527e1055"
      },
      "source": [
        "cadena = 'Hi'\n",
        "iterar = iter(cadena)\n",
        "next(iterar)"
      ],
      "execution_count": 9,
      "outputs": [
        {
          "output_type": "execute_result",
          "data": {
            "application/vnd.google.colaboratory.intrinsic+json": {
              "type": "string"
            },
            "text/plain": [
              "'H'"
            ]
          },
          "metadata": {
            "tags": []
          },
          "execution_count": 9
        }
      ]
    },
    {
      "cell_type": "code",
      "metadata": {
        "colab": {
          "base_uri": "https://localhost:8080/",
          "height": 35
        },
        "id": "vTUv8SG6Uhoj",
        "outputId": "aa66d63d-e742-46d3-f457-33b47234ca63"
      },
      "source": [
        "next(iterar)"
      ],
      "execution_count": 10,
      "outputs": [
        {
          "output_type": "execute_result",
          "data": {
            "application/vnd.google.colaboratory.intrinsic+json": {
              "type": "string"
            },
            "text/plain": [
              "'i'"
            ]
          },
          "metadata": {
            "tags": []
          },
          "execution_count": 10
        }
      ]
    },
    {
      "cell_type": "markdown",
      "metadata": {
        "id": "bBMNw6G8UxTO"
      },
      "source": [
        "**Iterando sobre un iterable (diccionarios)**"
      ]
    },
    {
      "cell_type": "code",
      "metadata": {
        "colab": {
          "base_uri": "https://localhost:8080/"
        },
        "id": "Wr8NuUTlVBDO",
        "outputId": "9c389fa6-9953-4976-c774-d1b297e25ca9"
      },
      "source": [
        "heroes = {'Marvel =>': 'Ironman', 'DC =>': 'Batman'}\n",
        "\n",
        "for key, value in heroes.items():\n",
        "    print(key, value)"
      ],
      "execution_count": 13,
      "outputs": [
        {
          "output_type": "stream",
          "text": [
            "Marvel => Ironman\n",
            "DC => Batman\n"
          ],
          "name": "stdout"
        }
      ]
    },
    {
      "cell_type": "markdown",
      "metadata": {
        "id": "Td9kS2HuV0_i"
      },
      "source": [
        "**Iterando sobre un iterable (archivos de conexion)**"
      ]
    },
    {
      "cell_type": "code",
      "metadata": {
        "colab": {
          "base_uri": "https://localhost:8080/"
        },
        "id": "2mpCzhmXV7OM",
        "outputId": "617f81a0-d127-4bb9-cb27-ff7d9a61ec3c"
      },
      "source": [
        "archivo = open('file.txt')\n",
        "iterador = iter(archivo)\n",
        "print(next(iterador))"
      ],
      "execution_count": 14,
      "outputs": [
        {
          "output_type": "stream",
          "text": [
            "Este es un archivo de conexion ... primera linea\n",
            "\n"
          ],
          "name": "stdout"
        }
      ]
    },
    {
      "cell_type": "code",
      "metadata": {
        "colab": {
          "base_uri": "https://localhost:8080/"
        },
        "id": "KEzsoyYWWVw4",
        "outputId": "51a28678-fb3b-4924-a864-be6179608aa4"
      },
      "source": [
        "print(next(iterador))"
      ],
      "execution_count": 15,
      "outputs": [
        {
          "output_type": "stream",
          "text": [
            "Este es un archivo de conexion ... segunda linea\n"
          ],
          "name": "stdout"
        }
      ]
    },
    {
      "cell_type": "markdown",
      "metadata": {
        "id": "EqKHjtYLWa-c"
      },
      "source": [
        "### **Enumeradores**"
      ]
    },
    {
      "cell_type": "code",
      "metadata": {
        "colab": {
          "base_uri": "https://localhost:8080/"
        },
        "id": "w51JZLMUWeEH",
        "outputId": "40bfafdf-5dcb-4b5f-ed2d-d31750d6a2d6"
      },
      "source": [
        "frutas = ['uva', 'pera', 'manzana', 'papaya','piña']\n",
        "e = enumerate(frutas)\n",
        "e_lista = list(e)\n",
        "print(e_lista)"
      ],
      "execution_count": 16,
      "outputs": [
        {
          "output_type": "stream",
          "text": [
            "[(0, 'uva'), (1, 'pera'), (2, 'manzana'), (3, 'papaya'), (4, 'piña')]\n"
          ],
          "name": "stdout"
        }
      ]
    },
    {
      "cell_type": "code",
      "metadata": {
        "colab": {
          "base_uri": "https://localhost:8080/"
        },
        "id": "MhiDLjzsXAz0",
        "outputId": "9f55159d-9dde-4f74-fa72-421829cdf2ff"
      },
      "source": [
        "for index, value in enumerate(frutas):\n",
        "    print(index, value)"
      ],
      "execution_count": 19,
      "outputs": [
        {
          "output_type": "stream",
          "text": [
            "0 uva\n",
            "1 pera\n",
            "2 manzana\n",
            "3 papaya\n",
            "4 piña\n"
          ],
          "name": "stdout"
        }
      ]
    },
    {
      "cell_type": "code",
      "metadata": {
        "colab": {
          "base_uri": "https://localhost:8080/"
        },
        "id": "gC79eALLXRVT",
        "outputId": "9a437294-7aa4-4789-b3e6-0a967ed91471"
      },
      "source": [
        "for index, value in enumerate(frutas, start=10):\n",
        "    print(index, value)"
      ],
      "execution_count": 20,
      "outputs": [
        {
          "output_type": "stream",
          "text": [
            "10 uva\n",
            "11 pera\n",
            "12 manzana\n",
            "13 papaya\n",
            "14 piña\n"
          ],
          "name": "stdout"
        }
      ]
    },
    {
      "cell_type": "code",
      "metadata": {
        "id": "YJERj_oid-dS"
      },
      "source": [
        ""
      ],
      "execution_count": null,
      "outputs": []
    },
    {
      "cell_type": "markdown",
      "metadata": {
        "id": "PBwqL5MgXYcl"
      },
      "source": [
        "**zip()**"
      ]
    },
    {
      "cell_type": "code",
      "metadata": {
        "colab": {
          "base_uri": "https://localhost:8080/"
        },
        "id": "AgZfB6JwXaPO",
        "outputId": "c22bb912-4815-4cb6-de71-a36e455730ca"
      },
      "source": [
        "categoria = ['Aseo', 'Lacteos', 'Bebidas']\n",
        "articulo = ['Detergente', 'Leche', 'Gaseosa']\n",
        "z = zip(categoria, articulo)\n",
        "z_lista = list(z)\n",
        "print(z_lista)"
      ],
      "execution_count": 22,
      "outputs": [
        {
          "output_type": "stream",
          "text": [
            "[('Aseo', 'Detergente'), ('Lacteos', 'Leche'), ('Bebidas', 'Gaseosa')]\n"
          ],
          "name": "stdout"
        }
      ]
    },
    {
      "cell_type": "code",
      "metadata": {
        "colab": {
          "base_uri": "https://localhost:8080/"
        },
        "id": "IGu4zu-OYH-7",
        "outputId": "b1576753-9800-41c1-8a10-c7c4bd7698ae"
      },
      "source": [
        "for cat, art in zip(categoria, articulo):\n",
        "    print(cat, art)"
      ],
      "execution_count": 26,
      "outputs": [
        {
          "output_type": "stream",
          "text": [
            "Aseo Detergente\n",
            "Lacteos Leche\n",
            "Bebidas Gaseosa\n"
          ],
          "name": "stdout"
        }
      ]
    },
    {
      "cell_type": "markdown",
      "metadata": {
        "id": "eVXdZY5oZHpM"
      },
      "source": [
        "### **Comprensión de listas**\n",
        "**Estrutura **\n",
        "\n",
        "![image.png](data:image/png;base64,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)"
      ]
    },
    {
      "cell_type": "code",
      "metadata": {
        "colab": {
          "base_uri": "https://localhost:8080/"
        },
        "id": "gkFiknB5ZNV8",
        "outputId": "1e2dffaa-a7d0-467b-914f-65e37df40da7"
      },
      "source": [
        "numeros = [12, 8, 21, 3, 16]\n",
        "\n",
        "nuevos_num = [ num + 1 for num in numeros]\n",
        "\n",
        "print(nuevos_num)"
      ],
      "execution_count": 30,
      "outputs": [
        {
          "output_type": "stream",
          "text": [
            "[13, 9, 22, 4, 17]\n"
          ],
          "name": "stdout"
        }
      ]
    },
    {
      "cell_type": "markdown",
      "metadata": {
        "id": "acAFBLJ4Zn8o"
      },
      "source": [
        "**compresión de listas con `range()`**"
      ]
    },
    {
      "cell_type": "code",
      "metadata": {
        "colab": {
          "base_uri": "https://localhost:8080/"
        },
        "id": "LT-WXeDnZukw",
        "outputId": "b940b212-68ca-415f-ff17-473c92ce4ca2"
      },
      "source": [
        "resultado = [num for num in range(11)]\n",
        "print(resultado)"
      ],
      "execution_count": 31,
      "outputs": [
        {
          "output_type": "stream",
          "text": [
            "[0, 1, 2, 3, 4, 5, 6, 7, 8, 9, 10]\n"
          ],
          "name": "stdout"
        }
      ]
    },
    {
      "cell_type": "markdown",
      "metadata": {
        "id": "vcAY_MrTbXVk"
      },
      "source": [
        "**Bucles anidados con compresion de listas**"
      ]
    },
    {
      "cell_type": "code",
      "metadata": {
        "colab": {
          "base_uri": "https://localhost:8080/"
        },
        "id": "EVOSztQabe9Z",
        "outputId": "8d2d81b6-b0f7-4be7-fed3-822daba85fb2"
      },
      "source": [
        "pares = [(num1, num2) for num1 in range(0, 2) for num2 in range(6, 8)]\n",
        "print(pares)"
      ],
      "execution_count": 32,
      "outputs": [
        {
          "output_type": "stream",
          "text": [
            "[(0, 6), (0, 7), (1, 6), (1, 7)]\n"
          ],
          "name": "stdout"
        }
      ]
    },
    {
      "cell_type": "markdown",
      "metadata": {
        "id": "ZxxvjQOEbwsm"
      },
      "source": [
        "**Condicionales con compresion de listas**"
      ]
    },
    {
      "cell_type": "code",
      "metadata": {
        "colab": {
          "base_uri": "https://localhost:8080/"
        },
        "id": "p9N9RXopb0Hz",
        "outputId": "89d37459-db28-4c1e-e0d8-1f133bd7f041"
      },
      "source": [
        "[num ** 2 for num in range(10) if num % 2 == 0]\n"
      ],
      "execution_count": 33,
      "outputs": [
        {
          "output_type": "execute_result",
          "data": {
            "text/plain": [
              "[0, 4, 16, 36, 64]"
            ]
          },
          "metadata": {
            "tags": []
          },
          "execution_count": 33
        }
      ]
    },
    {
      "cell_type": "code",
      "metadata": {
        "colab": {
          "base_uri": "https://localhost:8080/"
        },
        "id": "Efyw8otfb6qs",
        "outputId": "acaf25ae-17c6-4d25-bd66-6b619d4558ff"
      },
      "source": [
        "[num ** 2 if num % 2 == 0 else 0 for num in range(10)]"
      ],
      "execution_count": 34,
      "outputs": [
        {
          "output_type": "execute_result",
          "data": {
            "text/plain": [
              "[0, 0, 4, 0, 16, 0, 36, 0, 64, 0]"
            ]
          },
          "metadata": {
            "tags": []
          },
          "execution_count": 34
        }
      ]
    },
    {
      "cell_type": "markdown",
      "metadata": {
        "id": "MPKh2JGScEif"
      },
      "source": [
        "**Compresiones Dict**\n",
        "\n",
        "\n",
        "*   Crean diccionarios\n",
        "*   Usan llaves `{}` en lugar de corchetes `[]`\n",
        "\n"
      ]
    },
    {
      "cell_type": "code",
      "metadata": {
        "colab": {
          "base_uri": "https://localhost:8080/"
        },
        "id": "B1svaujkcEOv",
        "outputId": "963f9caf-13c9-42d3-c610-d0c0e6693272"
      },
      "source": [
        "letras = {l: l for l in 'Python'}\n",
        "print(letras)"
      ],
      "execution_count": 37,
      "outputs": [
        {
          "output_type": "stream",
          "text": [
            "{'P': 'P', 'y': 'y', 't': 't', 'h': 'h', 'o': 'o', 'n': 'n'}\n"
          ],
          "name": "stdout"
        }
      ]
    }
  ]
}